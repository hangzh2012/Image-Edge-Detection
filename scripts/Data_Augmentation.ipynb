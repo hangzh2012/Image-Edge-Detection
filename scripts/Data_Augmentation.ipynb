{
 "cells": [
  {
   "cell_type": "code",
   "execution_count": 4,
   "metadata": {},
   "outputs": [],
   "source": [
    "import numpy as np\n",
    "import pandas as pd\n",
    "import matplotlib.pyplot as plt\n",
    "import os\n",
    "import cv2\n",
    "\n",
    "from glob import glob\n",
    "from tqdm import tqdm\n",
    "from scipy.io import loadmat\n",
    "from PIL import Image\n",
    "\n",
    "import keras \n",
    "\n",
    "import seaborn as sns\n",
    "plt.style.use('seaborn')\n",
    "sns.set(style=\"ticks\", color_codes=True)\n",
    "\n",
    "state = 1\n",
    "np.random.seed(1)\n",
    "\n",
    "\n",
    "DATA_PATH = '/home/jiehuan/PycharmProjects/Image_edge/Data/BSR500/BSDS500/data'\n",
    "ROOT_PATH = '/home/jiehuan'\n",
    "GROUND_PATH = DATA_PATH + '/groundTruth'\n",
    "ORI_IMAGE_PATH = DATA_PATH + '/images'\n",
    "OUT_IMAGE_PATH = '/home/jiehuan/PycharmProjects/Image_edge/image'\n",
    "MODEL_PATH = '/home/jiehuan/PycharmProjects/Image_edge/model'\n",
    "WEIGHT_PATH = '/home/jiehuan/PycharmProjects/Image_edge/weight'\n",
    "\n",
    "POSTDATA_PATH = '/home/jiehuan/PycharmProjects/Image_edge/Data/BSR500/BSDS500/data/dataAgumentation'\n",
    "\n",
    "\n",
    "def save_fig(fig_id, tight_layout=True):\n",
    "    if not os.path.exists(OUT_IMAGE_PATH):\n",
    "        os.makedirs(OUT_IMAGE_PATH)\n",
    "    path = os.path.join(OUT_IMAGE_PATH, fig_id + \".png\")\n",
    "    print(\"Saving figure\", fig_id)\n",
    "    if tight_layout:\n",
    "        plt.tight_layout()\n",
    "    plt.savefig(path, format='png', dpi=300)\n"
   ]
  },
  {
   "cell_type": "code",
   "execution_count": 2,
   "metadata": {},
   "outputs": [],
   "source": [
    "i=0\n",
    "\n",
    "for foldname in tqdm(os.listdir(ORI_IMAGE_PATH)):\n",
    "    if foldname == 'val' or foldname == 'train':\n",
    "        for img in sorted(glob(ORI_IMAGE_PATH + '/' + foldname + '/*')):\n",
    "            data = cv2.imread(img)\n",
    "            if data is not None:\n",
    "                shape = np.asarray(data).shape\n",
    "                (filepath,tempfilename) = os.path.split(img)\n",
    "                (filename,extension) = os.path.splitext(tempfilename)\n",
    "\n",
    "                if shape == (481, 321, 3): #height width\n",
    "                    out0 = cv2.resize(data, (480, 320))\n",
    "                    data = cv2.resize(data, (320, 480)) #width height\n",
    "                    data = Image.fromarray(data)\n",
    "                    data = np.asarray(data.rotate(90, expand=True))\n",
    "                    newname0 = POSTDATA_PATH +\"/train/\"+filename+\"S.npy\"\n",
    "                    np.save(newname0, out0) # extension + S\n",
    "                else:\n",
    "                    data = cv2.resize(data, (480, 320))\n",
    "                \n",
    "                \n",
    "            \n",
    "                if i<271:\n",
    "                    orgdata = POSTDATA_PATH +\"/train/\"+filename+\".npy\"                \n",
    "                    newname1 = POSTDATA_PATH +\"/train/\"+filename+\"T.npy\"      \n",
    "                else:\n",
    "                    orgdata = POSTDATA_PATH +\"/val/\"+filename+\".npy\"\n",
    "                    newname1 = POSTDATA_PATH +\"/val/\"+filename+\"T.npy\"\n",
    "                \n",
    "                \n",
    "                out1 = np.fliplr(data)\n",
    "                np.save(orgdata, data)      # original Data\n",
    "                np.save(newname1, out1)     # horizontal flip + T\n",
    "            \n",
    "            i +=1\n",
    "\n"
   ]
  },
  {
   "cell_type": "code",
   "execution_count": null,
   "metadata": {},
   "outputs": [],
   "source": []
  },
  {
   "cell_type": "code",
   "execution_count": null,
   "metadata": {
    "collapsed": true
   },
   "outputs": [],
   "source": []
  }
 ],
 "metadata": {
  "kernelspec": {
   "display_name": "Python 3",
   "language": "python",
   "name": "python3"
  },
  "language_info": {
   "codemirror_mode": {
    "name": "ipython",
    "version": 3
   },
   "file_extension": ".py",
   "mimetype": "text/x-python",
   "name": "python",
   "nbconvert_exporter": "python",
   "pygments_lexer": "ipython3",
   "version": "3.6.3"
  }
 },
 "nbformat": 4,
 "nbformat_minor": 1
}
