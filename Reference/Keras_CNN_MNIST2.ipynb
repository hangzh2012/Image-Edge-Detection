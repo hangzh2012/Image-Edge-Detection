{
 "cells": [
  {
   "cell_type": "markdown",
   "metadata": {
    "collapsed": true
   },
   "source": [
    "1. Introduction\n",
    "2. Data preparation\n",
    "2.1 Load data\n",
    "2.2 Check for null and missing values\n",
    "2.3 Normalization\n",
    "2.4 Reshape\n",
    "2.5 Label encoding\n",
    "2.6 Split training and valdiation set\n",
    "3. CNN\n",
    "3.1 Define the model\n",
    "3.2 Set the optimizer and annealer\n",
    "3.3 Data augmentation\n",
    "4. Evaluate the model\n",
    "4.1 Training and validation curves\n",
    "4.2 Confusion matrix\n",
    "5. Prediction and submition\n",
    "5.1 Predict and Submit results"
   ]
  },
  {
   "cell_type": "code",
   "execution_count": 2,
   "metadata": {},
   "outputs": [],
   "source": [
    "import pandas as pd\n",
    "import numpy as np\n",
    "import matplotlib.pyplot as plt\n",
    "import matplotlib.image as mpimg\n",
    "import seaborn as sns\n",
    "%matplotlib inline\n",
    "\n",
    "random_state = np.random.seed(22)\n",
    "\n",
    "from sklearn.model_selection import train_test_split\n",
    "from sklearn.metrics import confusion_matrix\n",
    "import itertools\n",
    "\n",
    "import keras\n",
    "from keras.utils.np_utils import to_categorical # convert to one-hot-encoding\n",
    "from keras.models import Sequential\n",
    "from keras.layers import Dense, Dropout, Flatten, Conv2D, MaxPool2D\n",
    "from keras.preprocessing.image import ImageDataGenerator\n",
    "from keras.callbacks import ReduceLROnPlateau"
   ]
  },
  {
   "cell_type": "code",
   "execution_count": 3,
   "metadata": {},
   "outputs": [],
   "source": [
    "# To support both python 2 and python 3\n",
    "from __future__ import division, print_function, unicode_literals\n",
    "\n",
    "import os\n",
    "\n",
    "# To plot pretty figures\n",
    "%matplotlib inline\n",
    "import matplotlib\n",
    "import matplotlib.pyplot as plt\n",
    "plt.rcParams['axes.labelsize'] = 14\n",
    "plt.rcParams['xtick.labelsize'] = 12\n",
    "plt.rcParams['ytick.labelsize'] = 12\n",
    "plt.style.use('seaborn')\n",
    "\n",
    "# Where to save the figures\n",
    "PROJECT_ROOT_DIR = '/home/tulan/PycharmProjects/Google/Machine_Learning/EE258/HW5/'\n",
    "IMAGE_FOLD = 'images/Keras_CNN'\n",
    "IMAGE_DIR = os.path.join(PROJECT_ROOT_DIR, IMAGE_FOLD)\n",
    "\n",
    "def save_fig(fig_id, tight_layout=True):\n",
    "    if not os.path.exists(IMAGE_DIR):\n",
    "        os.makedirs(IMAGE_DIR)\n",
    "    path = os.path.join(IMAGE_DIR, fig_id + \".png\")\n",
    "    print(\"Saving figure\", fig_id)\n",
    "    if tight_layout:\n",
    "        plt.tight_layout()\n",
    "    plt.savefig(path, format='png', dpi=300)"
   ]
  },
  {
   "cell_type": "code",
   "execution_count": 12,
   "metadata": {},
   "outputs": [],
   "source": [
    "# Load the data\n",
    "train = pd.read_csv(PROJECT_ROOT_DIR + 'MNIST/train.csv')\n",
    "test = pd.read_csv(PROJECT_ROOT_DIR + 'MNIST/test.csv')"
   ]
  },
  {
   "cell_type": "code",
   "execution_count": 4,
   "metadata": {},
   "outputs": [
    {
     "data": {
      "text/plain": [
       "((42000, 785), (28000, 784))"
      ]
     },
     "execution_count": 4,
     "metadata": {},
     "output_type": "execute_result"
    }
   ],
   "source": [
    "train.shape, test.shape"
   ]
  },
  {
   "cell_type": "code",
   "execution_count": 7,
   "metadata": {},
   "outputs": [
    {
     "name": "stdout",
     "output_type": "stream",
     "text": [
      "   label  pixel0  pixel1  pixel2  pixel3  pixel4  pixel5  pixel6  pixel7  \\\n0      1       0       0       0       0       0       0       0       0   \n1      0       0       0       0       0       0       0       0       0   \n2      1       0       0       0       0       0       0       0       0   \n3      4       0       0       0       0       0       0       0       0   \n4      0       0       0       0       0       0       0       0       0   \n5      0       0       0       0       0       0       0       0       0   \n6      7       0       0       0       0       0       0       0       0   \n7      3       0       0       0       0       0       0       0       0   \n8      5       0       0       0       0       0       0       0       0   \n9      3       0       0       0       0       0       0       0       0   \n\n   pixel8    ...     pixel774  pixel775  pixel776  pixel777  pixel778  \\\n0       0    ...            0         0         0         0         0   \n1       0    ...            0         0         0         0         0   \n2       0    ...            0         0         0         0         0   \n3       0    ...            0         0         0         0         0   \n4       0    ...            0         0         0         0         0   \n5       0    ...            0         0         0         0         0   \n6       0    ...            0         0         0         0         0   \n7       0    ...            0         0         0         0         0   \n8       0    ...            0         0         0         0         0   \n9       0    ...            0         0         0         0         0   \n\n   pixel779  pixel780  pixel781  pixel782  pixel783  \n0         0         0         0         0         0  \n1         0         0         0         0         0  \n2         0         0         0         0         0  \n3         0         0         0         0         0  \n4         0         0         0         0         0  \n5         0         0         0         0         0  \n6         0         0         0         0         0  \n7         0         0         0         0         0  \n8         0         0         0         0         0  \n9         0         0         0         0         0  \n\n[10 rows x 785 columns]\n"
     ]
    }
   ],
   "source": [
    "print(train[0:10])"
   ]
  },
  {
   "cell_type": "code",
   "execution_count": 13,
   "metadata": {},
   "outputs": [
    {
     "name": "stdout",
     "output_type": "stream",
     "text": [
      "   pixel0  pixel1  pixel2  pixel3  pixel4  pixel5  pixel6  pixel7  pixel8  \\\n0     0.0     0.0     0.0     0.0     0.0     0.0     0.0     0.0     0.0   \n1     0.0     0.0     0.0     0.0     0.0     0.0     0.0     0.0     0.0   \n2     0.0     0.0     0.0     0.0     0.0     0.0     0.0     0.0     0.0   \n3     0.0     0.0     0.0     0.0     0.0     0.0     0.0     0.0     0.0   \n4     0.0     0.0     0.0     0.0     0.0     0.0     0.0     0.0     0.0   \n5     0.0     0.0     0.0     0.0     0.0     0.0     0.0     0.0     0.0   \n6     0.0     0.0     0.0     0.0     0.0     0.0     0.0     0.0     0.0   \n7     0.0     0.0     0.0     0.0     0.0     0.0     0.0     0.0     0.0   \n8     0.0     0.0     0.0     0.0     0.0     0.0     0.0     0.0     0.0   \n9     0.0     0.0     0.0     0.0     0.0     0.0     0.0     0.0     0.0   \n\n   pixel9    ...     pixel774  pixel775  pixel776  pixel777  pixel778  \\\n0     0.0    ...          0.0       0.0       0.0       0.0       0.0   \n1     0.0    ...          0.0       0.0       0.0       0.0       0.0   \n2     0.0    ...          0.0       0.0       0.0       0.0       0.0   \n3     0.0    ...          0.0       0.0       0.0       0.0       0.0   \n4     0.0    ...          0.0       0.0       0.0       0.0       0.0   \n5     0.0    ...          0.0       0.0       0.0       0.0       0.0   \n6     0.0    ...          0.0       0.0       0.0       0.0       0.0   \n7     0.0    ...          0.0       0.0       0.0       0.0       0.0   \n8     0.0    ...          0.0       0.0       0.0       0.0       0.0   \n9     0.0    ...          0.0       0.0       0.0       0.0       0.0   \n\n   pixel779  pixel780  pixel781  pixel782  pixel783  \n0       0.0       0.0       0.0       0.0       0.0  \n1       0.0       0.0       0.0       0.0       0.0  \n2       0.0       0.0       0.0       0.0       0.0  \n3       0.0       0.0       0.0       0.0       0.0  \n4       0.0       0.0       0.0       0.0       0.0  \n5       0.0       0.0       0.0       0.0       0.0  \n6       0.0       0.0       0.0       0.0       0.0  \n7       0.0       0.0       0.0       0.0       0.0  \n8       0.0       0.0       0.0       0.0       0.0  \n9       0.0       0.0       0.0       0.0       0.0  \n\n[10 rows x 784 columns] 0    1\n1    0\n2    1\n3    4\n4    0\n5    0\n6    7\n7    3\n8    5\n9    3\nName: label, dtype: int64\n"
     ]
    }
   ],
   "source": [
    "X_train = train.drop(labels='label', axis=1).astype(float)\n",
    "y_train = train['label']\n",
    "print(X_train[0:10], y_train[0:10])"
   ]
  },
  {
   "cell_type": "code",
   "execution_count": 8,
   "metadata": {},
   "outputs": [
    {
     "name": "stdout",
     "output_type": "stream",
     "text": [
      "Saving figure digit count\n"
     ]
    },
    {
     "data": {
      "text/plain": [
       "1    4684\n7    4401\n3    4351\n9    4188\n2    4177\n6    4137\n0    4132\n4    4072\n8    4063\n5    3795\nName: label, dtype: int64"
      ]
     },
     "execution_count": 8,
     "metadata": {},
     "output_type": "execute_result"
    },
    {
     "data": {
      "image/png": "[encoded data removed]",
      "text/plain": [
       "<matplotlib.figure.Figure at 0x7f7098359588>"
      ]
     },
     "metadata": {},
     "output_type": "display_data"
    }
   ],
   "source": [
    "sns.countplot(y_train)\n",
    "save_fig('digit count')\n",
    "y_train.value_counts()"
   ]
  },
  {
   "cell_type": "code",
   "execution_count": 6,
   "metadata": {},
   "outputs": [],
   "source": [
    "df_train = pd.DataFrame(X_train)\n",
    "df_test = pd.DataFrame(test)"
   ]
  },
  {
   "cell_type": "code",
   "execution_count": 10,
   "metadata": {},
   "outputs": [
    {
     "name": "stdout",
     "output_type": "stream",
     "text": [
      "<class 'pandas.core.frame.DataFrame'>\nRangeIndex: 42000 entries, 0 to 41999\nColumns: 784 entries, pixel0 to pixel783\ndtypes: float64(784)\nmemory usage: 251.2 MB\n"
     ]
    }
   ],
   "source": [
    "df_train.info(null_counts=True)"
   ]
  },
  {
   "cell_type": "code",
   "execution_count": 11,
   "metadata": {},
   "outputs": [
    {
     "data": {
      "text/plain": [
       "count       784\nunique        1\ntop       False\nfreq        784\ndtype: object"
      ]
     },
     "execution_count": 11,
     "metadata": {},
     "output_type": "execute_result"
    }
   ],
   "source": [
    "X_train.isnull().any().describe()"
   ]
  },
  {
   "cell_type": "code",
   "execution_count": 14,
   "metadata": {},
   "outputs": [
    {
     "name": "stdout",
     "output_type": "stream",
     "text": [
      "   pixel0  pixel1  pixel2  pixel3  pixel4  pixel5  pixel6  pixel7  pixel8  \\\n0     0.0     0.0     0.0     0.0     0.0     0.0     0.0     0.0     0.0   \n1     0.0     0.0     0.0     0.0     0.0     0.0     0.0     0.0     0.0   \n2     0.0     0.0     0.0     0.0     0.0     0.0     0.0     0.0     0.0   \n3     0.0     0.0     0.0     0.0     0.0     0.0     0.0     0.0     0.0   \n4     0.0     0.0     0.0     0.0     0.0     0.0     0.0     0.0     0.0   \n\n   pixel9    ...     pixel774  pixel775  pixel776  pixel777  pixel778  \\\n0     0.0    ...    -0.000857 -0.000457 -0.000231 -0.000079 -0.000067   \n1     0.0    ...    -0.000857 -0.000457 -0.000231 -0.000079 -0.000067   \n2     0.0    ...    -0.000857 -0.000457 -0.000231 -0.000079 -0.000067   \n3     0.0    ...    -0.000857 -0.000457 -0.000231 -0.000079 -0.000067   \n4     0.0    ...    -0.000857 -0.000457 -0.000231 -0.000079 -0.000067   \n\n   pixel779  pixel780  pixel781  pixel782  pixel783  \n0 -0.000011       0.0       0.0       0.0       0.0  \n1 -0.000011       0.0       0.0       0.0       0.0  \n2 -0.000011       0.0       0.0       0.0       0.0  \n3 -0.000011       0.0       0.0       0.0       0.0  \n4 -0.000011       0.0       0.0       0.0       0.0  \n\n[5 rows x 784 columns]\n"
     ]
    }
   ],
   "source": [
    "# Normalization (zero-center)\n",
    "Mean = np.mean(X_train, axis=0)\n",
    "X_train -= Mean\n",
    "test -= Mean\n",
    "X_train /= 256\n",
    "test /= 256\n",
    "print(X_train[0:5])"
   ]
  },
  {
   "cell_type": "code",
   "execution_count": 15,
   "metadata": {},
   "outputs": [],
   "source": [
    "# Reshape image in 3 dimensions (height = 28px, width = 28px , chanel = 1)\n",
    "X_train = X_train.values.reshape(-1,28,28,1)\n",
    "test = test.values.reshape(-1,28,28,1)"
   ]
  },
  {
   "cell_type": "code",
   "execution_count": 16,
   "metadata": {},
   "outputs": [
    {
     "data": {
      "text/plain": [
       "((42000, 10), array([[ 0.,  1.,  0.,  0.,  0.,  0.,  0.,  0.,  0.,  0.],\n        [ 1.,  0.,  0.,  0.,  0.,  0.,  0.,  0.,  0.,  0.]]))"
      ]
     },
     "execution_count": 16,
     "metadata": {},
     "output_type": "execute_result"
    }
   ],
   "source": [
    "# Encode labels to one hot vectors (ex : 2 -> [0,0,1,0,0,0,0,0,0,0])\n",
    "y_train = to_categorical(y_train, num_classes = 10)\n",
    "y_train.shape, y_train[0:2]"
   ]
  },
  {
   "cell_type": "code",
   "execution_count": 17,
   "metadata": {},
   "outputs": [
    {
     "data": {
      "text/plain": [
       "array([[ 0.,  0.,  0.,  0.,  0.,  0.,  1.,  0.,  0.,  0.],\n       [ 0.,  0.,  0.,  0.,  0.,  0.,  0.,  1.,  0.,  0.],\n       [ 0.,  0.,  0.,  0.,  0.,  0.,  0.,  0.,  0.,  1.],\n       [ 0.,  1.,  0.,  0.,  0.,  0.,  0.,  0.,  0.,  0.],\n       [ 0.,  0.,  0.,  0.,  0.,  0.,  1.,  0.,  0.,  0.]])"
      ]
     },
     "execution_count": 17,
     "metadata": {},
     "output_type": "execute_result"
    }
   ],
   "source": [
    "# Split the train and the validation set for the fitting\n",
    "X_train, X_val, y_train, y_val = train_test_split(X_train, y_train, shuffle=True,\n",
    "                                                  test_size = 0.1, random_state=random_state)\n",
    "y_train[0:5]"
   ]
  },
  {
   "cell_type": "code",
   "execution_count": 16,
   "metadata": {},
   "outputs": [
    {
     "name": "stdout",
     "output_type": "stream",
     "text": [
      "Saving figure example digit\n"
     ]
    },
    {
     "data": {
      "image/png": "[encoded data removed]",
      "text/plain": [
       "<matplotlib.figure.Figure at 0x7f70980ff550>"
      ]
     },
     "metadata": {},
     "output_type": "display_data"
    }
   ],
   "source": [
    "# example\n",
    "plt.imshow(X_train[0][:,:,0])\n",
    "save_fig('example digit')"
   ]
  },
  {
   "cell_type": "code",
   "execution_count": 5,
   "metadata": {},
   "outputs": [],
   "source": [
    "bias_initializer = keras.initializers.RandomNormal(mean=0.0, stddev=0.05, seed=22)"
   ]
  },
  {
   "cell_type": "code",
   "execution_count": 6,
   "metadata": {},
   "outputs": [
    {
     "name": "stdout",
     "output_type": "stream",
     "text": [
      "_________________________________________________________________\nLayer (type)                 Output Shape              Param #   \n=================================================================\nconv2d_1 (Conv2D)            (None, 28, 28, 32)        320       \n_________________________________________________________________\nconv2d_2 (Conv2D)            (None, 28, 28, 32)        9248      \n_________________________________________________________________\nconv2d_3 (Conv2D)            (None, 28, 28, 32)        9248      \n_________________________________________________________________\nmax_pooling2d_1 (MaxPooling2 (None, 14, 14, 32)        0         \n_________________________________________________________________\ndropout_1 (Dropout)          (None, 14, 14, 32)        0         \n_________________________________________________________________\nconv2d_4 (Conv2D)            (None, 14, 14, 64)        18496     \n_________________________________________________________________\nconv2d_5 (Conv2D)            (None, 14, 14, 64)        36928     \n_________________________________________________________________\nconv2d_6 (Conv2D)            (None, 14, 14, 64)        36928     \n_________________________________________________________________\nmax_pooling2d_2 (MaxPooling2 (None, 7, 7, 64)          0         \n_________________________________________________________________\ndropout_2 (Dropout)          (None, 7, 7, 64)          0         \n_________________________________________________________________\nconv2d_7 (Conv2D)            (None, 7, 7, 128)         73856     \n_________________________________________________________________\nconv2d_8 (Conv2D)            (None, 7, 7, 128)         147584    \n_________________________________________________________________\nconv2d_9 (Conv2D)            (None, 7, 7, 128)         147584    \n_________________________________________________________________\nmax_pooling2d_3 (MaxPooling2 (None, 3, 3, 128)         0         \n_________________________________________________________________\ndropout_3 (Dropout)          (None, 3, 3, 128)         0         \n_________________________________________________________________\nflatten_1 (Flatten)          (None, 1152)              0         \n_________________________________________________________________\ndense_1 (Dense)              (None, 288)               332064    \n_________________________________________________________________\ndense_2 (Dense)              (None, 72)                20808     \n_________________________________________________________________\ndropout_4 (Dropout)          (None, 72)                0         \n_________________________________________________________________\ndense_3 (Dense)              (None, 10)                730       \n=================================================================\nTotal params: 833,794\nTrainable params: 833,794\nNon-trainable params: 0\n_________________________________________________________________\n"
     ]
    }
   ],
   "source": [
    "## Model 1 ###\n",
    "# Set the CNN model \n",
    "\n",
    "model = Sequential()\n",
    "\n",
    "# conv1, 3*3*32 *3\n",
    "model.add(Conv2D(filters = 32, kernel_size = (3,3),padding = 'Same', \n",
    "                 use_bias=True, bias_initializer=bias_initializer, \n",
    "                 activation ='relu', input_shape = (28,28,1), ))\n",
    "model.add(Conv2D(filters = 32, kernel_size = (3,3),padding = 'Same', \n",
    "                 use_bias=True, bias_initializer=bias_initializer, activation ='relu'))\n",
    "model.add(Conv2D(filters = 32, kernel_size = (3,3),padding = 'Same', \n",
    "                 use_bias=True, bias_initializer=bias_initializer, activation ='relu'))\n",
    "# max-pool 1 output: 14*14*32\n",
    "model.add(MaxPool2D(pool_size=(2,2), padding='valid'))\n",
    "# drop-out 1\n",
    "model.add(Dropout(0.25))\n",
    "\n",
    "# conv2, 3*3*64 *3\n",
    "model.add(Conv2D(filters = 64, kernel_size = (3,3),padding = 'Same', \n",
    "                 use_bias=True, activation ='relu', bias_initializer=bias_initializer))\n",
    "model.add(Conv2D(filters = 64, kernel_size = (3,3),padding = 'Same', \n",
    "                 use_bias=True, activation ='relu', bias_initializer=bias_initializer))\n",
    "model.add(Conv2D(filters = 64, kernel_size = (3,3),padding = 'Same', \n",
    "                 use_bias=True, activation ='relu', bias_initializer=bias_initializer))\n",
    "# max-pool 2 output: 7*7*64\n",
    "model.add(MaxPool2D(pool_size=(2,2), padding='valid'))\n",
    "# drop-out 2\n",
    "model.add(Dropout(0.25))\n",
    "\n",
    "\n",
    "# conv3, 3*3*128 *3\n",
    "model.add(Conv2D(filters = 128, kernel_size = (3,3),padding = 'Same', \n",
    "                 use_bias=True, bias_initializer=bias_initializer, activation ='relu'))\n",
    "model.add(Conv2D(filters = 128, kernel_size = (3,3),padding = 'Same', \n",
    "                 use_bias=True, bias_initializer=bias_initializer, activation ='relu'))\n",
    "model.add(Conv2D(filters = 128, kernel_size = (3,3),padding = 'Same', \n",
    "                 use_bias=True, bias_initializer=bias_initializer, activation ='relu'))\n",
    "# max-pool 2 output: 3*3*128\n",
    "model.add(MaxPool2D(pool_size=(2,2), padding='valid'))\n",
    "# drop-out 3\n",
    "model.add(Dropout(0.25))\n",
    "\n",
    "# full-connected 1152\n",
    "model.add(Flatten())\n",
    "# fc-1 1152 / 4 =288\n",
    "model.add(Dense(288, activation = \"relu\", use_bias=True, bias_initializer=bias_initializer,))\n",
    "model.add(Dense(72, activation = \"relu\", use_bias=True, bias_initializer=bias_initializer,))\n",
    "model.add(Dropout(0.25))\n",
    "# fc-2 output: 10\n",
    "model.add(Dense(10, activation = \"softmax\", use_bias=True, bias_initializer=bias_initializer,))\n",
    "\n",
    "model.summary()\n",
    "\n",
    "\n",
    "### model 2 ###\n",
    "# Set the CNN model \n",
    "# \n",
    "# model = Sequential()\n",
    "# \n",
    "# # conv1, 3*3*32 *3\n",
    "# model.add(Conv2D(filters = 32, kernel_size = (3,3),padding = 'Same', \n",
    "#                  use_bias=True, bias_initializer=bias_initializer, \n",
    "#                  activation ='relu', input_shape = (28,28,1)))\n",
    "# model.add(Conv2D(filters = 32, kernel_size = (3,3),padding = 'Same', \n",
    "#                  use_bias=True, bias_initializer=bias_initializer, activation ='relu'))\n",
    "# model.add(Conv2D(filters = 32, kernel_size = (3,3),padding = 'Same', \n",
    "#                  use_bias=True, bias_initializer=bias_initializer, activation ='relu'))\n",
    "# # pool 1 output: 24*24*32\n",
    "# model.add(Conv2D(filters = 32, kernel_size = (9,9),padding = 'valid', activation ='relu'))\n",
    "# # drop-out 1\n",
    "# model.add(Dropout(0.25))\n",
    "# \n",
    "# # conv2, 3*3*64 *3\n",
    "# model.add(Conv2D(filters = 64, kernel_size = (3,3),padding = 'Same', \n",
    "#                  use_bias=True, activation ='relu', bias_initializer=bias_initializer))\n",
    "# model.add(Conv2D(filters = 64, kernel_size = (3,3),padding = 'Same', \n",
    "#                  use_bias=True, activation ='relu', bias_initializer=bias_initializer))\n",
    "# model.add(Conv2D(filters = 64, kernel_size = (3,3),padding = 'Same', \n",
    "#                  use_bias=True, activation ='relu', bias_initializer=bias_initializer))\n",
    "# # max-pool 2 output: 20*20*64\n",
    "# model.add(Conv2D(filters = 64, kernel_size = (7,7),padding = 'valid', activation ='relu'))\n",
    "# # drop-out 2\n",
    "# model.add(Dropout(0.25))\n",
    "# \n",
    "# \n",
    "# # conv3, 3*3*128 *3\n",
    "# model.add(Conv2D(filters = 128, kernel_size = (3,3),padding = 'Same', \n",
    "#                  use_bias=True, bias_initializer=bias_initializer, activation ='relu'))\n",
    "# model.add(Conv2D(filters = 128, kernel_size = (3,3),padding = 'Same', \n",
    "#                  use_bias=True, bias_initializer=bias_initializer, activation ='relu'))\n",
    "# model.add(Conv2D(filters = 128, kernel_size = (3,3),padding = 'Same', \n",
    "#                  use_bias=True, bias_initializer=bias_initializer, activation ='relu'))\n",
    "# # max-pool 3 output: 16*16*128\n",
    "# model.add(Conv2D(filters = 128, kernel_size = (7,7),padding = 'valid', activation ='relu'))\n",
    "# # drop-out 3\n",
    "# model.add(Dropout(0.25))\n",
    "# \n",
    "# # conv4, 3*3*256 *3\n",
    "# model.add(Conv2D(filters = 256, kernel_size = (3,3),padding = 'Same', \n",
    "#                  use_bias=True, bias_initializer=bias_initializer, activation ='relu'))\n",
    "# model.add(Conv2D(filters = 256, kernel_size = (3,3),padding = 'Same', \n",
    "#                  use_bias=True, bias_initializer=bias_initializer, activation ='relu'))\n",
    "# model.add(Conv2D(filters = 256, kernel_size = (3,3),padding = 'Same', \n",
    "#                  use_bias=True, bias_initializer=bias_initializer, activation ='relu'))\n",
    "# # max-pool 4 output: 8*8*256\n",
    "# model.add(MaxPool2D(pool_size=(2,2), padding='valid'))\n",
    "# # drop-out 4\n",
    "# model.add(Dropout(0.25))\n",
    "# \n",
    "# \n",
    "# # full-connected 8192\n",
    "# model.add(Flatten())\n",
    "# # fc-1 4096 / 8 =1024\n",
    "# model.add(Dense(1024, activation = \"relu\", use_bias=True))\n",
    "# # drop-out 4\n",
    "# model.add(Dropout(0.25))\n",
    "# # fc-2 output: 10\n",
    "# model.add(Dense(10, activation = \"softmax\", use_bias=True))"
   ]
  },
  {
   "cell_type": "code",
   "execution_count": 20,
   "metadata": {},
   "outputs": [],
   "source": [
    "# Define the optimizer\n",
    "optimizer = keras.optimizers.Adam(lr=0.001, beta_1=0.9, beta_2=0.999, epsilon=1e-08, decay=0.0)"
   ]
  },
  {
   "cell_type": "code",
   "execution_count": 21,
   "metadata": {},
   "outputs": [],
   "source": [
    "# Compile the model\n",
    "model.compile(optimizer = optimizer , loss = \"categorical_crossentropy\", metrics=[\"accuracy\"])"
   ]
  },
  {
   "cell_type": "code",
   "execution_count": 22,
   "metadata": {},
   "outputs": [
    {
     "name": "stdout",
     "output_type": "stream",
     "text": [
      "Train on 37800 samples, validate on 4200 samples\nEpoch 1/5\n"
     ]
    },
    {
     "name": "stdout",
     "output_type": "stream",
     "text": [
      " - 9s - loss: 0.6486 - acc: 0.7779 - val_loss: 0.1123 - val_acc: 0.9664\n"
     ]
    },
    {
     "name": "stdout",
     "output_type": "stream",
     "text": [
      "Epoch 2/5\n"
     ]
    },
    {
     "name": "stdout",
     "output_type": "stream",
     "text": [
      " - 7s - loss: 0.1114 - acc: 0.9683 - val_loss: 0.0511 - val_acc: 0.9850\n"
     ]
    },
    {
     "name": "stdout",
     "output_type": "stream",
     "text": [
      "Epoch 3/5\n"
     ]
    },
    {
     "name": "stdout",
     "output_type": "stream",
     "text": [
      " - 7s - loss: 0.0759 - acc: 0.9787 - val_loss: 0.0504 - val_acc: 0.9838\n"
     ]
    },
    {
     "name": "stdout",
     "output_type": "stream",
     "text": [
      "Epoch 4/5\n"
     ]
    },
    {
     "name": "stdout",
     "output_type": "stream",
     "text": [
      " - 7s - loss: 0.0634 - acc: 0.9825 - val_loss: 0.0365 - val_acc: 0.9876\n"
     ]
    },
    {
     "name": "stdout",
     "output_type": "stream",
     "text": [
      "Epoch 5/5\n"
     ]
    },
    {
     "name": "stdout",
     "output_type": "stream",
     "text": [
      " - 7s - loss: 0.0509 - acc: 0.9857 - val_loss: 0.0301 - val_acc: 0.9900\n"
     ]
    },
    {
     "data": {
      "text/plain": [
       "<keras.callbacks.History at 0x7f8ca3a42860>"
      ]
     },
     "execution_count": 22,
     "metadata": {},
     "output_type": "execute_result"
    }
   ],
   "source": [
    "batch_size = 100\n",
    "epochs = 5\n",
    "\n",
    "model.fit(x=X_train, y=y_train, batch_size=batch_size, epochs=epochs, verbose=2, \n",
    "     validation_data=(X_val, y_val))"
   ]
  },
  {
   "cell_type": "code",
   "execution_count": 23,
   "metadata": {},
   "outputs": [],
   "source": [
    "# With data augmentation to prevent overfitting (accuracy 0.99286)\n",
    "\n",
    "datagen = ImageDataGenerator(\n",
    "        featurewise_center=False,  # set input mean to 0 over the dataset\n",
    "        samplewise_center=False,  # set each sample mean to 0\n",
    "        featurewise_std_normalization=False,  # divide inputs by std of the dataset\n",
    "        samplewise_std_normalization=False,  # divide each input by its std\n",
    "        zca_whitening=False,  # apply ZCA whitening\n",
    "        rotation_range=10,  # randomly rotate images in the range (degrees, 0 to 180)\n",
    "        zoom_range = 0.1, # Randomly zoom image \n",
    "        width_shift_range=0.1,  # randomly shift images horizontally (fraction of total width)\n",
    "        height_shift_range=0.1,  # randomly shift images vertically (fraction of total height)\n",
    "        horizontal_flip=False,  # randomly flip images\n",
    "        vertical_flip=False)  # randomly flip images\n",
    "\n",
    "\n",
    "datagen.fit(X_train)\n"
   ]
  },
  {
   "cell_type": "code",
   "execution_count": 24,
   "metadata": {},
   "outputs": [],
   "source": [
    "# Set a learning rate annealer\n",
    "learning_rate_reduction = ReduceLROnPlateau(monitor='val_acc', \n",
    "                                            patience=3, \n",
    "                                            verbose=1, \n",
    "                                            factor=0.1, \n",
    "                                            min_lr=1e-5)"
   ]
  },
  {
   "cell_type": "code",
   "execution_count": 25,
   "metadata": {},
   "outputs": [],
   "source": [
    "# Tensorboard\n",
    "tensorboard = keras.callbacks.TensorBoard(log_dir=PROJECT_ROOT_DIR + 'logs', \n",
    "                            histogram_freq=0, batch_size=100, \n",
    "                            write_graph=True, write_grads=False, write_images=False, \n",
    "                            embeddings_freq=0, embeddings_layer_names=None, \n",
    "                            embeddings_metadata=None)"
   ]
  },
  {
   "cell_type": "code",
   "execution_count": 26,
   "metadata": {},
   "outputs": [
    {
     "name": "stdout",
     "output_type": "stream",
     "text": [
      "Epoch 1/30\n"
     ]
    },
    {
     "name": "stdout",
     "output_type": "stream",
     "text": [
      " - 7s - loss: 0.1243 - acc: 0.9653 - val_loss: 0.0373 - val_acc: 0.9907\n"
     ]
    },
    {
     "name": "stdout",
     "output_type": "stream",
     "text": [
      "Epoch 2/30\n"
     ]
    },
    {
     "name": "stdout",
     "output_type": "stream",
     "text": [
      " - 7s - loss: 0.0831 - acc: 0.9768 - val_loss: 0.0365 - val_acc: 0.9898\n"
     ]
    },
    {
     "name": "stdout",
     "output_type": "stream",
     "text": [
      "Epoch 3/30\n"
     ]
    },
    {
     "name": "stdout",
     "output_type": "stream",
     "text": [
      " - 7s - loss: 0.0732 - acc: 0.9796 - val_loss: 0.0316 - val_acc: 0.9886\n"
     ]
    },
    {
     "name": "stdout",
     "output_type": "stream",
     "text": [
      "Epoch 4/30\n"
     ]
    },
    {
     "name": "stdout",
     "output_type": "stream",
     "text": [
      " - 7s - loss: 0.0651 - acc: 0.9821 - val_loss: 0.0331 - val_acc: 0.9914\n"
     ]
    },
    {
     "name": "stdout",
     "output_type": "stream",
     "text": [
      "Epoch 5/30\n"
     ]
    },
    {
     "name": "stdout",
     "output_type": "stream",
     "text": [
      " - 7s - loss: 0.0592 - acc: 0.9835 - val_loss: 0.0329 - val_acc: 0.9914\n"
     ]
    },
    {
     "name": "stdout",
     "output_type": "stream",
     "text": [
      "Epoch 6/30\n"
     ]
    },
    {
     "name": "stdout",
     "output_type": "stream",
     "text": [
      " - 8s - loss: 0.0578 - acc: 0.9839 - val_loss: 0.0358 - val_acc: 0.9890\n"
     ]
    },
    {
     "name": "stdout",
     "output_type": "stream",
     "text": [
      "Epoch 7/30\n"
     ]
    },
    {
     "name": "stdout",
     "output_type": "stream",
     "text": [
      " - 7s - loss: 0.0541 - acc: 0.9852 - val_loss: 0.0325 - val_acc: 0.9893\n"
     ]
    },
    {
     "name": "stdout",
     "output_type": "stream",
     "text": [
      "Epoch 8/30\n"
     ]
    },
    {
     "name": "stdout",
     "output_type": "stream",
     "text": [
      " - 7s - loss: 0.0499 - acc: 0.9861 - val_loss: 0.0313 - val_acc: 0.9919\n"
     ]
    },
    {
     "name": "stdout",
     "output_type": "stream",
     "text": [
      "Epoch 9/30\n"
     ]
    },
    {
     "name": "stdout",
     "output_type": "stream",
     "text": [
      " - 7s - loss: 0.0525 - acc: 0.9856 - val_loss: 0.0272 - val_acc: 0.9902\n"
     ]
    },
    {
     "name": "stdout",
     "output_type": "stream",
     "text": [
      "Epoch 10/30\n"
     ]
    },
    {
     "name": "stdout",
     "output_type": "stream",
     "text": [
      " - 7s - loss: 0.0497 - acc: 0.9859 - val_loss: 0.0232 - val_acc: 0.9933\n"
     ]
    },
    {
     "name": "stdout",
     "output_type": "stream",
     "text": [
      "Epoch 11/30\n"
     ]
    },
    {
     "name": "stdout",
     "output_type": "stream",
     "text": [
      " - 7s - loss: 0.0481 - acc: 0.9868 - val_loss: 0.0319 - val_acc: 0.9914\n"
     ]
    },
    {
     "name": "stdout",
     "output_type": "stream",
     "text": [
      "Epoch 12/30\n"
     ]
    },
    {
     "name": "stdout",
     "output_type": "stream",
     "text": [
      " - 8s - loss: 0.0430 - acc: 0.9872 - val_loss: 0.0250 - val_acc: 0.9924\n"
     ]
    },
    {
     "name": "stdout",
     "output_type": "stream",
     "text": [
      "Epoch 13/30\n"
     ]
    },
    {
     "name": "stdout",
     "output_type": "stream",
     "text": [
      " - 8s - loss: 0.0423 - acc: 0.9879 - val_loss: 0.0220 - val_acc: 0.9940\n"
     ]
    },
    {
     "name": "stdout",
     "output_type": "stream",
     "text": [
      "Epoch 14/30\n"
     ]
    },
    {
     "name": "stdout",
     "output_type": "stream",
     "text": [
      " - 7s - loss: 0.0419 - acc: 0.9887 - val_loss: 0.0302 - val_acc: 0.9898\n"
     ]
    },
    {
     "name": "stdout",
     "output_type": "stream",
     "text": [
      "Epoch 15/30\n"
     ]
    },
    {
     "name": "stdout",
     "output_type": "stream",
     "text": [
      " - 7s - loss: 0.0405 - acc: 0.9882 - val_loss: 0.0301 - val_acc: 0.9929\n"
     ]
    },
    {
     "name": "stdout",
     "output_type": "stream",
     "text": [
      "Epoch 16/30\n"
     ]
    },
    {
     "name": "stdout",
     "output_type": "stream",
     "text": [
      " - 7s - loss: 0.0446 - acc: 0.9883 - val_loss: 0.0359 - val_acc: 0.9914\n"
     ]
    },
    {
     "name": "stdout",
     "output_type": "stream",
     "text": [
      "Epoch 17/30\n"
     ]
    },
    {
     "name": "stdout",
     "output_type": "stream",
     "text": [
      " - 7s - loss: 0.0429 - acc: 0.9881 - val_loss: 0.0229 - val_acc: 0.9945\n"
     ]
    },
    {
     "name": "stdout",
     "output_type": "stream",
     "text": [
      "Epoch 18/30\n"
     ]
    },
    {
     "name": "stdout",
     "output_type": "stream",
     "text": [
      " - 7s - loss: 0.0370 - acc: 0.9898 - val_loss: 0.0292 - val_acc: 0.9914\n"
     ]
    },
    {
     "name": "stdout",
     "output_type": "stream",
     "text": [
      "Epoch 19/30\n"
     ]
    },
    {
     "name": "stdout",
     "output_type": "stream",
     "text": [
      " - 7s - loss: 0.0409 - acc: 0.9882 - val_loss: 0.0296 - val_acc: 0.9919\n"
     ]
    },
    {
     "name": "stdout",
     "output_type": "stream",
     "text": [
      "Epoch 20/30\n"
     ]
    },
    {
     "name": "stdout",
     "output_type": "stream",
     "text": [
      " - 7s - loss: 0.0393 - acc: 0.9886 - val_loss: 0.0237 - val_acc: 0.9931\n"
     ]
    },
    {
     "name": "stdout",
     "output_type": "stream",
     "text": [
      "Epoch 21/30\n"
     ]
    },
    {
     "name": "stdout",
     "output_type": "stream",
     "text": [
      "\nEpoch 00021: reducing learning rate to 0.00010000000474974513.\n - 7s - loss: 0.0399 - acc: 0.9891 - val_loss: 0.0296 - val_acc: 0.9914\n"
     ]
    },
    {
     "name": "stdout",
     "output_type": "stream",
     "text": [
      "Epoch 22/30\n"
     ]
    },
    {
     "name": "stdout",
     "output_type": "stream",
     "text": [
      " - 7s - loss: 0.0268 - acc: 0.9920 - val_loss: 0.0199 - val_acc: 0.9948\n"
     ]
    },
    {
     "name": "stdout",
     "output_type": "stream",
     "text": [
      "Epoch 23/30\n"
     ]
    },
    {
     "name": "stdout",
     "output_type": "stream",
     "text": [
      " - 7s - loss: 0.0207 - acc: 0.9938 - val_loss: 0.0189 - val_acc: 0.9950\n"
     ]
    },
    {
     "name": "stdout",
     "output_type": "stream",
     "text": [
      "Epoch 24/30\n"
     ]
    },
    {
     "name": "stdout",
     "output_type": "stream",
     "text": [
      " - 7s - loss: 0.0227 - acc: 0.9931 - val_loss: 0.0170 - val_acc: 0.9952\n"
     ]
    },
    {
     "name": "stdout",
     "output_type": "stream",
     "text": [
      "Epoch 25/30\n"
     ]
    },
    {
     "name": "stdout",
     "output_type": "stream",
     "text": [
      " - 7s - loss: 0.0202 - acc: 0.9937 - val_loss: 0.0163 - val_acc: 0.9962\n"
     ]
    },
    {
     "name": "stdout",
     "output_type": "stream",
     "text": [
      "Epoch 26/30\n"
     ]
    },
    {
     "name": "stdout",
     "output_type": "stream",
     "text": [
      " - 7s - loss: 0.0203 - acc: 0.9940 - val_loss: 0.0175 - val_acc: 0.9952\n"
     ]
    },
    {
     "name": "stdout",
     "output_type": "stream",
     "text": [
      "Epoch 27/30\n"
     ]
    },
    {
     "name": "stdout",
     "output_type": "stream",
     "text": [
      " - 7s - loss: 0.0178 - acc: 0.9946 - val_loss: 0.0183 - val_acc: 0.9952\n"
     ]
    },
    {
     "name": "stdout",
     "output_type": "stream",
     "text": [
      "Epoch 28/30\n"
     ]
    },
    {
     "name": "stdout",
     "output_type": "stream",
     "text": [
      " - 7s - loss: 0.0173 - acc: 0.9948 - val_loss: 0.0168 - val_acc: 0.9962\n"
     ]
    },
    {
     "name": "stdout",
     "output_type": "stream",
     "text": [
      "Epoch 29/30\n"
     ]
    },
    {
     "name": "stdout",
     "output_type": "stream",
     "text": [
      "\nEpoch 00029: reducing learning rate to 1.0000000474974514e-05.\n - 7s - loss: 0.0156 - acc: 0.9955 - val_loss: 0.0173 - val_acc: 0.9960\n"
     ]
    },
    {
     "name": "stdout",
     "output_type": "stream",
     "text": [
      "Epoch 30/30\n"
     ]
    },
    {
     "name": "stdout",
     "output_type": "stream",
     "text": [
      " - 7s - loss: 0.0166 - acc: 0.9952 - val_loss: 0.0170 - val_acc: 0.9962\n"
     ]
    }
   ],
   "source": [
    "# Fit the model\n",
    "epochs = 30\n",
    "\n",
    "history = model.fit_generator(datagen.flow(X_train,y_train, batch_size=batch_size),\n",
    "                              epochs = epochs, validation_data = (X_val,y_val),\n",
    "                              verbose = 2, steps_per_epoch=X_train.shape[0] // batch_size\n",
    "                              , callbacks=[learning_rate_reduction, tensorboard])"
   ]
  },
  {
   "cell_type": "code",
   "execution_count": 27,
   "metadata": {},
   "outputs": [
    {
     "data": {
      "image/png": "[encoded data removed]",
      "text/plain": [
       "<matplotlib.figure.Figure at 0x7f8bf30b9438>"
      ]
     },
     "metadata": {},
     "output_type": "display_data"
    }
   ],
   "source": [
    "# Plot the loss and accuracy curves for training and validation \n",
    "fig, ax = plt.subplots(2,1)\n",
    "ax[0].plot(history.history['loss'], color='b', label=\"Training loss\")\n",
    "ax[0].plot(history.history['val_loss'], color='r', label=\"validation loss\",axes =ax[0])\n",
    "legend = ax[0].legend(loc='best', shadow=True)\n",
    "\n",
    "ax[1].plot(history.history['acc'], color='b', label=\"Training accuracy\")\n",
    "ax[1].plot(history.history['val_acc'], color='r',label=\"Validation accuracy\")\n",
    "legend = ax[1].legend(loc='best', shadow=True)"
   ]
  },
  {
   "cell_type": "code",
   "execution_count": 28,
   "metadata": {},
   "outputs": [
    {
     "data": {
      "image/png": "[encoded data removed]",
      "text/plain": [
       "<matplotlib.figure.Figure at 0x7f8bf27a8198>"
      ]
     },
     "metadata": {},
     "output_type": "display_data"
    }
   ],
   "source": [
    "# Look at confusion matrix \n",
    "\n",
    "def plot_confusion_matrix(cm, classes,\n",
    "                          normalize=False,\n",
    "                          title='Confusion matrix',\n",
    "                          cmap=plt.cm.Blues):\n",
    "    \"\"\"\n",
    "    This function prints and plots the confusion matrix.\n",
    "    Normalization can be applied by setting `normalize=True`.\n",
    "    \"\"\"\n",
    "    plt.imshow(cm, interpolation='nearest', cmap=cmap)\n",
    "    plt.title(title)\n",
    "    plt.colorbar()\n",
    "    tick_marks = np.arange(len(classes))\n",
    "    plt.xticks(tick_marks, classes, rotation=45)\n",
    "    plt.yticks(tick_marks, classes)\n",
    "\n",
    "    if normalize:\n",
    "        cm = cm.astype('float') / cm.sum(axis=1)[:, np.newaxis]\n",
    "\n",
    "    thresh = cm.max() / 2.\n",
    "    for i, j in itertools.product(range(cm.shape[0]), range(cm.shape[1])):\n",
    "        plt.text(j, i, cm[i, j],\n",
    "                 horizontalalignment=\"center\",\n",
    "                 color=\"white\" if cm[i, j] > thresh else \"black\")\n",
    "\n",
    "    plt.tight_layout()\n",
    "    plt.ylabel('True label')\n",
    "    plt.xlabel('Predicted label')\n",
    "\n",
    "# Predict the values from the validation dataset\n",
    "Y_pred = model.predict(X_val)\n",
    "# Convert predictions classes to one hot vectors \n",
    "Y_pred_classes = np.argmax(Y_pred,axis = 1) \n",
    "# Convert validation observations to one hot vectors\n",
    "Y_true = np.argmax(y_val,axis = 1) \n",
    "# compute the confusion matrix\n",
    "confusion_mtx = confusion_matrix(Y_true, Y_pred_classes) \n",
    "# plot the confusion matrix\n",
    "plot_confusion_matrix(confusion_mtx, classes = range(10)) "
   ]
  },
  {
   "cell_type": "code",
   "execution_count": 29,
   "metadata": {},
   "outputs": [
    {
     "data": {
      "image/png": "[encoded data removed]",
      "text/plain": [
       "<matplotlib.figure.Figure at 0x7f8bf283b7b8>"
      ]
     },
     "metadata": {},
     "output_type": "display_data"
    }
   ],
   "source": [
    "# Display some error results \n",
    "\n",
    "# Errors are difference between predicted labels and true labels\n",
    "errors = (Y_pred_classes - Y_true != 0)\n",
    "\n",
    "Y_pred_classes_errors = Y_pred_classes[errors]\n",
    "Y_pred_errors = Y_pred[errors]\n",
    "Y_true_errors = Y_true[errors]\n",
    "X_val_errors = X_val[errors]\n",
    "\n",
    "def display_errors(errors_index,img_errors,pred_errors, obs_errors):\n",
    "    \"\"\" This function shows 6 images with their predicted and real labels\"\"\"\n",
    "    n = 0\n",
    "    nrows = 2\n",
    "    ncols = 3\n",
    "    fig, ax = plt.subplots(nrows,ncols,sharex=True,sharey=True)\n",
    "    for row in range(nrows):\n",
    "        for col in range(ncols):\n",
    "            error = errors_index[n]\n",
    "            ax[row,col].imshow((img_errors[error]).reshape((28,28)))\n",
    "            ax[row,col].set_title(\"Predicted label :{}\\nTrue label :{}\".format(pred_errors[error],obs_errors[error]))\n",
    "            n += 1\n",
    "\n",
    "# Probabilities of the wrong predicted numbers\n",
    "Y_pred_errors_prob = np.max(Y_pred_errors,axis = 1)\n",
    "\n",
    "# Predicted probabilities of the true values in the error set\n",
    "true_prob_errors = np.diagonal(np.take(Y_pred_errors, Y_true_errors, axis=1))\n",
    "\n",
    "# Difference between the probability of the predicted label and the true label\n",
    "delta_pred_true_errors = Y_pred_errors_prob - true_prob_errors\n",
    "\n",
    "# Sorted list of the delta prob errors\n",
    "sorted_dela_errors = np.argsort(delta_pred_true_errors)\n",
    "\n",
    "# Top 6 errors \n",
    "most_important_errors = sorted_dela_errors[-6:]\n",
    "\n",
    "# Show the top 6 errors\n",
    "display_errors(most_important_errors, X_val_errors, Y_pred_classes_errors, Y_true_errors)"
   ]
  },
  {
   "cell_type": "code",
   "execution_count": null,
   "metadata": {},
   "outputs": [],
   "source": [
    "\n",
    "\n",
    "# predict results\n",
    "results = model.predict(test)\n",
    "\n",
    "# select the indix with the maximum probability\n",
    "results = np.argmax(results,axis = 1)\n",
    "\n",
    "results = pd.Series(results,name=\"Label\")"
   ]
  },
  {
   "cell_type": "code",
   "execution_count": null,
   "metadata": {},
   "outputs": [],
   "source": [
    "\n",
    "submission = pd.concat([pd.Series(range(1,28001),name = \"ImageId\"),results],axis = 1)\n",
    "import datetime\n",
    "timestamp = str(datetime.datetime.now())\n",
    "submission.to_csv(PROJECT_ROOT_DIR + 'cnn_mnist_result_' + timestamp + '.csv',index=False)"
   ]
  },
  {
   "cell_type": "code",
   "execution_count": null,
   "metadata": {},
   "outputs": [],
   "source": []
  }
 ],
 "metadata": {
  "kernelspec": {
   "display_name": "Python 2",
   "language": "python",
   "name": "python2"
  },
  "language_info": {
   "codemirror_mode": {
    "name": "ipython",
    "version": 2
   },
   "file_extension": ".py",
   "mimetype": "text/x-python",
   "name": "python",
   "nbconvert_exporter": "python",
   "pygments_lexer": "ipython2",
   "version": "2.7.6"
  }
 },
 "nbformat": 4,
 "nbformat_minor": 0
}
